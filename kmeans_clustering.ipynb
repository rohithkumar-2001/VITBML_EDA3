{
  "nbformat": 4,
  "nbformat_minor": 0,
  "metadata": {
    "colab": {
      "name": "kmeans clustering.ipynb",
      "provenance": [],
      "collapsed_sections": [],
      "authorship_tag": "ABX9TyOp2uL92MwL91AJxgMoWDZJ",
      "include_colab_link": true
    },
    "kernelspec": {
      "name": "python3",
      "display_name": "Python 3"
    }
  },
  "cells": [
    {
      "cell_type": "markdown",
      "metadata": {
        "id": "view-in-github",
        "colab_type": "text"
      },
      "source": [
        "<a href=\"https://colab.research.google.com/github/rohithkumar-2001/VITBML_EDA3/blob/master/kmeans_clustering.ipynb\" target=\"_parent\"><img src=\"https://colab.research.google.com/assets/colab-badge.svg\" alt=\"Open In Colab\"/></a>"
      ]
    },
    {
      "cell_type": "markdown",
      "metadata": {
        "id": "BU67BcC7bpsn",
        "colab_type": "text"
      },
      "source": [
        "#               **K-MEANS CLUSTERING**\n",
        "#we load the data sets of covid-19 cases from the github repository.\n",
        "#Here the datasets are given datewise.So we want to  load all the datasets and those data sets can combined in to one dataset by using pandas library.\n",
        "#In the data sets we observed the columns which are:\n",
        "#1.Country/Region:-country of the covid cases.\n",
        "#2.Last Update:-date and time of updation of the cases.\n",
        "#3.Latitude:-on which latitude the country is located.\n",
        "#4.Longitude:-on which longitude the country is present.\n",
        "#5.Confirmed:-total number of confirmed cases.\n",
        "#6.Deaths:-total number of confirmed deaths.\n",
        "#7.Recovered:-total no of deaths due to the virus.\n",
        "#8.Province/State:-state or city of the covid cases.\n",
        "#All the datasets doesn't contain same columns,But contains some columns same.\n",
        "#Later we clean the datasets month wise then we combine the all three months dataset in to one dataset. "
      ]
    },
    {
      "cell_type": "markdown",
      "metadata": {
        "id": "hAyH_n4LfP5z",
        "colab_type": "text"
      },
      "source": [
        "#we load the datasets date wise from the github repository of the month of january.\n",
        "#since we want to load multiple datasets ,we use for loop.\n",
        "#After that we append all the readed datasets in to january list for simplification.\n",
        "#later we drop the rows in which province/state name is not mentioned.\n",
        "#Then we drop the all columns except confirmed,deaths,recovered,province/state.\n",
        "#Then province/state is setted as index.\n",
        "#All the nan values in confirmed,deaths,recovered all filled with zeros.\n",
        "#Finally we cleaned and combined all the datasets of month january in to one dataset.\n"
      ]
    },
    {
      "cell_type": "code",
      "metadata": {
        "id": "BzxFD0gus2gs",
        "colab_type": "code",
        "colab": {}
      },
      "source": [
        "import pandas as pd\n",
        "january=[]\n",
        "for i in range(2,10):\n",
        "  x=pd.read_csv('https://raw.githubusercontent.com/CSSEGISandData/COVID-19/master/csse_covid_19_data/csse_covid_19_daily_reports/01-2{}-2020.csv'.format(i))\n",
        "  january.append(x)\n",
        "for j in [0,1]:\n",
        "  y=pd.read_csv('https://raw.githubusercontent.com/CSSEGISandData/COVID-19/master/csse_covid_19_data/csse_covid_19_daily_reports/01-3{}-2020.csv'.format(j))\n",
        "  january.append(y)\n",
        "#for h in january:\n",
        "  #print(h)"
      ],
      "execution_count": 0,
      "outputs": []
    },
    {
      "cell_type": "code",
      "metadata": {
        "id": "koXPKcDZpJot",
        "colab_type": "code",
        "colab": {}
      },
      "source": [
        "for i in range(len(january)):\n",
        "  january[i]=january[i].dropna(subset=['Province/State'],how='any')\n",
        "  january[i]=january[i].drop(['Country/Region','Last Update'],axis=1)\n",
        "  january[i]=january[i].set_index('Province/State')\n",
        "#for h in january:\n",
        "  #print(h)"
      ],
      "execution_count": 0,
      "outputs": []
    },
    {
      "cell_type": "code",
      "metadata": {
        "id": "Z3Z8V9MYC6-P",
        "colab_type": "code",
        "outputId": "226f38eb-533d-42cc-ba4b-f32849daccc2",
        "colab": {
          "base_uri": "https://localhost:8080/",
          "height": 1000
        }
      },
      "source": [
        "for i in range(1,len(january)):\n",
        "  january[0]=january[0].add(january[i],fill_value=0)\n",
        "january[0]"
      ],
      "execution_count": 0,
      "outputs": [
        {
          "output_type": "execute_result",
          "data": {
            "text/html": [
              "<div>\n",
              "<style scoped>\n",
              "    .dataframe tbody tr th:only-of-type {\n",
              "        vertical-align: middle;\n",
              "    }\n",
              "\n",
              "    .dataframe tbody tr th {\n",
              "        vertical-align: top;\n",
              "    }\n",
              "\n",
              "    .dataframe thead th {\n",
              "        text-align: right;\n",
              "    }\n",
              "</style>\n",
              "<table border=\"1\" class=\"dataframe\">\n",
              "  <thead>\n",
              "    <tr style=\"text-align: right;\">\n",
              "      <th></th>\n",
              "      <th>Confirmed</th>\n",
              "      <th>Deaths</th>\n",
              "      <th>Recovered</th>\n",
              "    </tr>\n",
              "    <tr>\n",
              "      <th>Province/State</th>\n",
              "      <th></th>\n",
              "      <th></th>\n",
              "      <th></th>\n",
              "    </tr>\n",
              "  </thead>\n",
              "  <tbody>\n",
              "    <tr>\n",
              "      <th>Anhui</th>\n",
              "      <td>889.0</td>\n",
              "      <td>NaN</td>\n",
              "      <td>7.0</td>\n",
              "    </tr>\n",
              "    <tr>\n",
              "      <th>Arizona</th>\n",
              "      <td>6.0</td>\n",
              "      <td>NaN</td>\n",
              "      <td>NaN</td>\n",
              "    </tr>\n",
              "    <tr>\n",
              "      <th>Bavaria</th>\n",
              "      <td>17.0</td>\n",
              "      <td>NaN</td>\n",
              "      <td>NaN</td>\n",
              "    </tr>\n",
              "    <tr>\n",
              "      <th>Beijing</th>\n",
              "      <td>716.0</td>\n",
              "      <td>5.0</td>\n",
              "      <td>24.0</td>\n",
              "    </tr>\n",
              "    <tr>\n",
              "      <th>British Columbia</th>\n",
              "      <td>4.0</td>\n",
              "      <td>NaN</td>\n",
              "      <td>NaN</td>\n",
              "    </tr>\n",
              "    <tr>\n",
              "      <th>California</th>\n",
              "      <td>12.0</td>\n",
              "      <td>NaN</td>\n",
              "      <td>NaN</td>\n",
              "    </tr>\n",
              "    <tr>\n",
              "      <th>Chicago</th>\n",
              "      <td>1.0</td>\n",
              "      <td>NaN</td>\n",
              "      <td>NaN</td>\n",
              "    </tr>\n",
              "    <tr>\n",
              "      <th>Chongqing</th>\n",
              "      <td>956.0</td>\n",
              "      <td>NaN</td>\n",
              "      <td>3.0</td>\n",
              "    </tr>\n",
              "    <tr>\n",
              "      <th>Fujian</th>\n",
              "      <td>513.0</td>\n",
              "      <td>NaN</td>\n",
              "      <td>NaN</td>\n",
              "    </tr>\n",
              "    <tr>\n",
              "      <th>Gansu</th>\n",
              "      <td>127.0</td>\n",
              "      <td>NaN</td>\n",
              "      <td>NaN</td>\n",
              "    </tr>\n",
              "    <tr>\n",
              "      <th>Guangdong</th>\n",
              "      <td>1725.0</td>\n",
              "      <td>NaN</td>\n",
              "      <td>42.0</td>\n",
              "    </tr>\n",
              "    <tr>\n",
              "      <th>Guangxi</th>\n",
              "      <td>409.0</td>\n",
              "      <td>NaN</td>\n",
              "      <td>8.0</td>\n",
              "    </tr>\n",
              "    <tr>\n",
              "      <th>Guizhou</th>\n",
              "      <td>82.0</td>\n",
              "      <td>NaN</td>\n",
              "      <td>4.0</td>\n",
              "    </tr>\n",
              "    <tr>\n",
              "      <th>Hainan</th>\n",
              "      <td>272.0</td>\n",
              "      <td>5.0</td>\n",
              "      <td>2.0</td>\n",
              "    </tr>\n",
              "    <tr>\n",
              "      <th>Hebei</th>\n",
              "      <td>271.0</td>\n",
              "      <td>9.0</td>\n",
              "      <td>NaN</td>\n",
              "    </tr>\n",
              "    <tr>\n",
              "      <th>Heilongjiang</th>\n",
              "      <td>225.0</td>\n",
              "      <td>10.0</td>\n",
              "      <td>NaN</td>\n",
              "    </tr>\n",
              "    <tr>\n",
              "      <th>Henan</th>\n",
              "      <td>1266.0</td>\n",
              "      <td>9.0</td>\n",
              "      <td>6.0</td>\n",
              "    </tr>\n",
              "    <tr>\n",
              "      <th>Hong Kong</th>\n",
              "      <td>65.0</td>\n",
              "      <td>NaN</td>\n",
              "      <td>NaN</td>\n",
              "    </tr>\n",
              "    <tr>\n",
              "      <th>Hubei</th>\n",
              "      <td>22496.0</td>\n",
              "      <td>842.0</td>\n",
              "      <td>605.0</td>\n",
              "    </tr>\n",
              "    <tr>\n",
              "      <th>Hunan</th>\n",
              "      <td>1222.0</td>\n",
              "      <td>NaN</td>\n",
              "      <td>4.0</td>\n",
              "    </tr>\n",
              "    <tr>\n",
              "      <th>Illinois</th>\n",
              "      <td>8.0</td>\n",
              "      <td>NaN</td>\n",
              "      <td>NaN</td>\n",
              "    </tr>\n",
              "    <tr>\n",
              "      <th>Inner Mongolia</th>\n",
              "      <td>96.0</td>\n",
              "      <td>NaN</td>\n",
              "      <td>1.0</td>\n",
              "    </tr>\n",
              "    <tr>\n",
              "      <th>Jiangsu</th>\n",
              "      <td>579.0</td>\n",
              "      <td>NaN</td>\n",
              "      <td>11.0</td>\n",
              "    </tr>\n",
              "    <tr>\n",
              "      <th>Jiangxi</th>\n",
              "      <td>773.0</td>\n",
              "      <td>NaN</td>\n",
              "      <td>20.0</td>\n",
              "    </tr>\n",
              "    <tr>\n",
              "      <th>Jilin</th>\n",
              "      <td>63.0</td>\n",
              "      <td>NaN</td>\n",
              "      <td>2.0</td>\n",
              "    </tr>\n",
              "    <tr>\n",
              "      <th>Liaoning</th>\n",
              "      <td>236.0</td>\n",
              "      <td>NaN</td>\n",
              "      <td>3.0</td>\n",
              "    </tr>\n",
              "    <tr>\n",
              "      <th>Macau</th>\n",
              "      <td>46.0</td>\n",
              "      <td>NaN</td>\n",
              "      <td>NaN</td>\n",
              "    </tr>\n",
              "    <tr>\n",
              "      <th>New South Wales</th>\n",
              "      <td>20.0</td>\n",
              "      <td>NaN</td>\n",
              "      <td>4.0</td>\n",
              "    </tr>\n",
              "    <tr>\n",
              "      <th>Ningxia</th>\n",
              "      <td>79.0</td>\n",
              "      <td>NaN</td>\n",
              "      <td>NaN</td>\n",
              "    </tr>\n",
              "    <tr>\n",
              "      <th>Ontario</th>\n",
              "      <td>8.0</td>\n",
              "      <td>NaN</td>\n",
              "      <td>NaN</td>\n",
              "    </tr>\n",
              "    <tr>\n",
              "      <th>Qinghai</th>\n",
              "      <td>36.0</td>\n",
              "      <td>NaN</td>\n",
              "      <td>NaN</td>\n",
              "    </tr>\n",
              "    <tr>\n",
              "      <th>Queensland</th>\n",
              "      <td>5.0</td>\n",
              "      <td>NaN</td>\n",
              "      <td>NaN</td>\n",
              "    </tr>\n",
              "    <tr>\n",
              "      <th>Shaanxi</th>\n",
              "      <td>332.0</td>\n",
              "      <td>NaN</td>\n",
              "      <td>NaN</td>\n",
              "    </tr>\n",
              "    <tr>\n",
              "      <th>Shandong</th>\n",
              "      <td>738.0</td>\n",
              "      <td>NaN</td>\n",
              "      <td>4.0</td>\n",
              "    </tr>\n",
              "    <tr>\n",
              "      <th>Shanghai</th>\n",
              "      <td>580.0</td>\n",
              "      <td>6.0</td>\n",
              "      <td>29.0</td>\n",
              "    </tr>\n",
              "    <tr>\n",
              "      <th>Shanxi</th>\n",
              "      <td>159.0</td>\n",
              "      <td>NaN</td>\n",
              "      <td>3.0</td>\n",
              "    </tr>\n",
              "    <tr>\n",
              "      <th>Sichuan</th>\n",
              "      <td>686.0</td>\n",
              "      <td>3.0</td>\n",
              "      <td>3.0</td>\n",
              "    </tr>\n",
              "    <tr>\n",
              "      <th>Taiwan</th>\n",
              "      <td>52.0</td>\n",
              "      <td>NaN</td>\n",
              "      <td>NaN</td>\n",
              "    </tr>\n",
              "    <tr>\n",
              "      <th>Tianjin</th>\n",
              "      <td>177.0</td>\n",
              "      <td>NaN</td>\n",
              "      <td>NaN</td>\n",
              "    </tr>\n",
              "    <tr>\n",
              "      <th>Tibet</th>\n",
              "      <td>2.0</td>\n",
              "      <td>NaN</td>\n",
              "      <td>NaN</td>\n",
              "    </tr>\n",
              "    <tr>\n",
              "      <th>Victoria</th>\n",
              "      <td>8.0</td>\n",
              "      <td>NaN</td>\n",
              "      <td>NaN</td>\n",
              "    </tr>\n",
              "    <tr>\n",
              "      <th>Washington</th>\n",
              "      <td>10.0</td>\n",
              "      <td>NaN</td>\n",
              "      <td>NaN</td>\n",
              "    </tr>\n",
              "    <tr>\n",
              "      <th>Xinjiang</th>\n",
              "      <td>70.0</td>\n",
              "      <td>NaN</td>\n",
              "      <td>NaN</td>\n",
              "    </tr>\n",
              "    <tr>\n",
              "      <th>Yunnan</th>\n",
              "      <td>313.0</td>\n",
              "      <td>NaN</td>\n",
              "      <td>1.0</td>\n",
              "    </tr>\n",
              "    <tr>\n",
              "      <th>Zhejiang</th>\n",
              "      <td>1809.0</td>\n",
              "      <td>NaN</td>\n",
              "      <td>28.0</td>\n",
              "    </tr>\n",
              "  </tbody>\n",
              "</table>\n",
              "</div>"
            ],
            "text/plain": [
              "                  Confirmed  Deaths  Recovered\n",
              "Province/State                                \n",
              "Anhui                 889.0     NaN        7.0\n",
              "Arizona                 6.0     NaN        NaN\n",
              "Bavaria                17.0     NaN        NaN\n",
              "Beijing               716.0     5.0       24.0\n",
              "British Columbia        4.0     NaN        NaN\n",
              "California             12.0     NaN        NaN\n",
              "Chicago                 1.0     NaN        NaN\n",
              "Chongqing             956.0     NaN        3.0\n",
              "Fujian                513.0     NaN        NaN\n",
              "Gansu                 127.0     NaN        NaN\n",
              "Guangdong            1725.0     NaN       42.0\n",
              "Guangxi               409.0     NaN        8.0\n",
              "Guizhou                82.0     NaN        4.0\n",
              "Hainan                272.0     5.0        2.0\n",
              "Hebei                 271.0     9.0        NaN\n",
              "Heilongjiang          225.0    10.0        NaN\n",
              "Henan                1266.0     9.0        6.0\n",
              "Hong Kong              65.0     NaN        NaN\n",
              "Hubei               22496.0   842.0      605.0\n",
              "Hunan                1222.0     NaN        4.0\n",
              "Illinois                8.0     NaN        NaN\n",
              "Inner Mongolia         96.0     NaN        1.0\n",
              "Jiangsu               579.0     NaN       11.0\n",
              "Jiangxi               773.0     NaN       20.0\n",
              "Jilin                  63.0     NaN        2.0\n",
              "Liaoning              236.0     NaN        3.0\n",
              "Macau                  46.0     NaN        NaN\n",
              "New South Wales        20.0     NaN        4.0\n",
              "Ningxia                79.0     NaN        NaN\n",
              "Ontario                 8.0     NaN        NaN\n",
              "Qinghai                36.0     NaN        NaN\n",
              "Queensland              5.0     NaN        NaN\n",
              "Shaanxi               332.0     NaN        NaN\n",
              "Shandong              738.0     NaN        4.0\n",
              "Shanghai              580.0     6.0       29.0\n",
              "Shanxi                159.0     NaN        3.0\n",
              "Sichuan               686.0     3.0        3.0\n",
              "Taiwan                 52.0     NaN        NaN\n",
              "Tianjin               177.0     NaN        NaN\n",
              "Tibet                   2.0     NaN        NaN\n",
              "Victoria                8.0     NaN        NaN\n",
              "Washington             10.0     NaN        NaN\n",
              "Xinjiang               70.0     NaN        NaN\n",
              "Yunnan                313.0     NaN        1.0\n",
              "Zhejiang             1809.0     NaN       28.0"
            ]
          },
          "metadata": {
            "tags": []
          },
          "execution_count": 3
        }
      ]
    },
    {
      "cell_type": "markdown",
      "metadata": {
        "id": "5BN4MSyng-l0",
        "colab_type": "text"
      },
      "source": [
        "#similarly we made the dataset for the month of February.i,e:all the datasets of february month are combined in to one dataset."
      ]
    },
    {
      "cell_type": "code",
      "metadata": {
        "id": "kz7Mi1JuH9SR",
        "colab_type": "code",
        "colab": {}
      },
      "source": [
        "february=[]\n",
        "for i in range(1,10):\n",
        "  x=pd.read_csv('https://raw.githubusercontent.com/CSSEGISandData/COVID-19/master/csse_covid_19_data/csse_covid_19_daily_reports/02-0{}-2020.csv'.format(i))\n",
        "  february.append(x)\n",
        "for j in range(10):\n",
        "  y=pd.read_csv('https://raw.githubusercontent.com/CSSEGISandData/COVID-19/master/csse_covid_19_data/csse_covid_19_daily_reports/02-1{}-2020.csv'.format(j))\n",
        "  february.append(y)\n",
        "for k in range(10):\n",
        "  z=pd.read_csv('https://raw.githubusercontent.com/CSSEGISandData/COVID-19/master/csse_covid_19_data/csse_covid_19_daily_reports/02-2{}-2020.csv'.format(k))\n",
        "  february.append(z)\n",
        "#for p in february:\n",
        "  #print(p)"
      ],
      "execution_count": 0,
      "outputs": []
    },
    {
      "cell_type": "code",
      "metadata": {
        "id": "Mv-wmCNcvUum",
        "colab_type": "code",
        "colab": {}
      },
      "source": [
        "for i in range(len(february)):\n",
        "  february[i]=february[i].dropna(subset=['Province/State'],how='any')\n",
        "  february[i]=february[i].drop(['Country/Region','Last Update'],axis=1)\n",
        "  february[i]=february[i].set_index('Province/State')\n",
        "#for h in february:\n",
        "  #print(h)"
      ],
      "execution_count": 0,
      "outputs": []
    },
    {
      "cell_type": "code",
      "metadata": {
        "id": "RqMUFizawU-Y",
        "colab_type": "code",
        "outputId": "7deabf8e-dd3c-4de5-c538-2e089e7e0b27",
        "colab": {
          "base_uri": "https://localhost:8080/",
          "height": 437
        }
      },
      "source": [
        "for i in range(1,len(february)):\n",
        "  february[0]=february[0].add(february[i],fill_value=0)\n",
        "february[0]"
      ],
      "execution_count": 0,
      "outputs": [
        {
          "output_type": "execute_result",
          "data": {
            "text/html": [
              "<div>\n",
              "<style scoped>\n",
              "    .dataframe tbody tr th:only-of-type {\n",
              "        vertical-align: middle;\n",
              "    }\n",
              "\n",
              "    .dataframe tbody tr th {\n",
              "        vertical-align: top;\n",
              "    }\n",
              "\n",
              "    .dataframe thead th {\n",
              "        text-align: right;\n",
              "    }\n",
              "</style>\n",
              "<table border=\"1\" class=\"dataframe\">\n",
              "  <thead>\n",
              "    <tr style=\"text-align: right;\">\n",
              "      <th></th>\n",
              "      <th>Confirmed</th>\n",
              "      <th>Deaths</th>\n",
              "      <th>Recovered</th>\n",
              "    </tr>\n",
              "    <tr>\n",
              "      <th>Province/State</th>\n",
              "      <th></th>\n",
              "      <th></th>\n",
              "      <th></th>\n",
              "    </tr>\n",
              "  </thead>\n",
              "  <tbody>\n",
              "    <tr>\n",
              "      <th>Montreal, QC</th>\n",
              "      <td>2.0</td>\n",
              "      <td>0.0</td>\n",
              "      <td>0.0</td>\n",
              "    </tr>\n",
              "    <tr>\n",
              "      <th>Anhui</th>\n",
              "      <td>23988.0</td>\n",
              "      <td>113.0</td>\n",
              "      <td>9328.0</td>\n",
              "    </tr>\n",
              "    <tr>\n",
              "      <th>Ashland, NE</th>\n",
              "      <td>11.0</td>\n",
              "      <td>0.0</td>\n",
              "      <td>0.0</td>\n",
              "    </tr>\n",
              "    <tr>\n",
              "      <th>Beijing</th>\n",
              "      <td>9968.0</td>\n",
              "      <td>93.0</td>\n",
              "      <td>3209.0</td>\n",
              "    </tr>\n",
              "    <tr>\n",
              "      <th>Boston, MA</th>\n",
              "      <td>29.0</td>\n",
              "      <td>0.0</td>\n",
              "      <td>2.0</td>\n",
              "    </tr>\n",
              "    <tr>\n",
              "      <th>...</th>\n",
              "      <td>...</td>\n",
              "      <td>...</td>\n",
              "      <td>...</td>\n",
              "    </tr>\n",
              "    <tr>\n",
              "      <th>Victoria</th>\n",
              "      <td>119.0</td>\n",
              "      <td>0.0</td>\n",
              "      <td>68.0</td>\n",
              "    </tr>\n",
              "    <tr>\n",
              "      <th>Western Australia</th>\n",
              "      <td>2.0</td>\n",
              "      <td>0.0</td>\n",
              "      <td>0.0</td>\n",
              "    </tr>\n",
              "    <tr>\n",
              "      <th>Xinjiang</th>\n",
              "      <td>1705.0</td>\n",
              "      <td>27.0</td>\n",
              "      <td>434.0</td>\n",
              "    </tr>\n",
              "    <tr>\n",
              "      <th>Yunnan</th>\n",
              "      <td>4483.0</td>\n",
              "      <td>21.0</td>\n",
              "      <td>1707.0</td>\n",
              "    </tr>\n",
              "    <tr>\n",
              "      <th>Zhejiang</th>\n",
              "      <td>31295.0</td>\n",
              "      <td>10.0</td>\n",
              "      <td>13126.0</td>\n",
              "    </tr>\n",
              "  </tbody>\n",
              "</table>\n",
              "<p>101 rows × 3 columns</p>\n",
              "</div>"
            ],
            "text/plain": [
              "                   Confirmed  Deaths  Recovered\n",
              "Province/State                                 \n",
              " Montreal, QC            2.0     0.0        0.0\n",
              "Anhui                23988.0   113.0     9328.0\n",
              "Ashland, NE             11.0     0.0        0.0\n",
              "Beijing               9968.0    93.0     3209.0\n",
              "Boston, MA              29.0     0.0        2.0\n",
              "...                      ...     ...        ...\n",
              "Victoria               119.0     0.0       68.0\n",
              "Western Australia        2.0     0.0        0.0\n",
              "Xinjiang              1705.0    27.0      434.0\n",
              "Yunnan                4483.0    21.0     1707.0\n",
              "Zhejiang             31295.0    10.0    13126.0\n",
              "\n",
              "[101 rows x 3 columns]"
            ]
          },
          "metadata": {
            "tags": []
          },
          "execution_count": 6
        }
      ]
    },
    {
      "cell_type": "markdown",
      "metadata": {
        "id": "jXExkejliyRQ",
        "colab_type": "text"
      },
      "source": [
        "#As done in previous months we made the single dataset by combining the all the datasets for the month of March."
      ]
    },
    {
      "cell_type": "code",
      "metadata": {
        "id": "DZPxHs-uLBNE",
        "colab_type": "code",
        "colab": {}
      },
      "source": [
        "march=[]\n",
        "for i in range(1,10):\n",
        "  x=pd.read_csv('https://raw.githubusercontent.com/CSSEGISandData/COVID-19/master/csse_covid_19_data/csse_covid_19_daily_reports/03-0{}-2020.csv'.format(i))\n",
        "  march.append(x)\n",
        "for j in range(10):\n",
        "  y=pd.read_csv('https://raw.githubusercontent.com/CSSEGISandData/COVID-19/master/csse_covid_19_data/csse_covid_19_daily_reports/03-1{}-2020.csv'.format(j))\n",
        "  march.append(y)\n",
        "for k in range(8):\n",
        "  z=pd.read_csv('https://raw.githubusercontent.com/CSSEGISandData/COVID-19/master/csse_covid_19_data/csse_covid_19_daily_reports/03-2{}-2020.csv'.format(k))\n",
        "  march.append(z)\n",
        "#for d in march:\n",
        "  #print(d)\n"
      ],
      "execution_count": 0,
      "outputs": []
    },
    {
      "cell_type": "code",
      "metadata": {
        "colab_type": "code",
        "id": "6snEyV-1qXNh",
        "colab": {}
      },
      "source": [
        "for i in range(21):\n",
        "  march[i]=march[i].dropna(subset=['Province/State'],how='any')\n",
        "  march[i]=march[i].drop(['Country/Region','Last Update','Latitude','Longitude'],axis=1)\n",
        "  march[i]=march[i].set_index('Province/State')\n",
        "#for h in range(21):\n",
        "  #print(march[h])"
      ],
      "execution_count": 0,
      "outputs": []
    },
    {
      "cell_type": "code",
      "metadata": {
        "id": "pX-2bxpJ_m3P",
        "colab_type": "code",
        "outputId": "e4649b74-7fff-4bff-af6c-a2db24970a2f",
        "colab": {
          "base_uri": "https://localhost:8080/",
          "height": 437
        }
      },
      "source": [
        "for i in range(1,21):\n",
        "  march[0]=march[0].add(march[i],fill_value=0)\n",
        "march[0]"
      ],
      "execution_count": 0,
      "outputs": [
        {
          "output_type": "execute_result",
          "data": {
            "text/html": [
              "<div>\n",
              "<style scoped>\n",
              "    .dataframe tbody tr th:only-of-type {\n",
              "        vertical-align: middle;\n",
              "    }\n",
              "\n",
              "    .dataframe tbody tr th {\n",
              "        vertical-align: top;\n",
              "    }\n",
              "\n",
              "    .dataframe thead th {\n",
              "        text-align: right;\n",
              "    }\n",
              "</style>\n",
              "<table border=\"1\" class=\"dataframe\">\n",
              "  <thead>\n",
              "    <tr style=\"text-align: right;\">\n",
              "      <th></th>\n",
              "      <th>Confirmed</th>\n",
              "      <th>Deaths</th>\n",
              "      <th>Recovered</th>\n",
              "    </tr>\n",
              "    <tr>\n",
              "      <th>Province/State</th>\n",
              "      <th></th>\n",
              "      <th></th>\n",
              "      <th></th>\n",
              "    </tr>\n",
              "  </thead>\n",
              "  <tbody>\n",
              "    <tr>\n",
              "      <th>Montreal, QC</th>\n",
              "      <td>15.0</td>\n",
              "      <td>0.0</td>\n",
              "      <td>0.0</td>\n",
              "    </tr>\n",
              "    <tr>\n",
              "      <th>Norfolk County, MA</th>\n",
              "      <td>7.0</td>\n",
              "      <td>0.0</td>\n",
              "      <td>0.0</td>\n",
              "    </tr>\n",
              "    <tr>\n",
              "      <th>Alabama</th>\n",
              "      <td>429.0</td>\n",
              "      <td>0.0</td>\n",
              "      <td>0.0</td>\n",
              "    </tr>\n",
              "    <tr>\n",
              "      <th>Alameda County, CA</th>\n",
              "      <td>6.0</td>\n",
              "      <td>0.0</td>\n",
              "      <td>0.0</td>\n",
              "    </tr>\n",
              "    <tr>\n",
              "      <th>Alaska</th>\n",
              "      <td>48.0</td>\n",
              "      <td>0.0</td>\n",
              "      <td>0.0</td>\n",
              "    </tr>\n",
              "    <tr>\n",
              "      <th>...</th>\n",
              "      <td>...</td>\n",
              "      <td>...</td>\n",
              "      <td>...</td>\n",
              "    </tr>\n",
              "    <tr>\n",
              "      <th>Wyoming</th>\n",
              "      <td>96.0</td>\n",
              "      <td>0.0</td>\n",
              "      <td>0.0</td>\n",
              "    </tr>\n",
              "    <tr>\n",
              "      <th>Xinjiang</th>\n",
              "      <td>1596.0</td>\n",
              "      <td>63.0</td>\n",
              "      <td>1502.0</td>\n",
              "    </tr>\n",
              "    <tr>\n",
              "      <th>Yolo County, CA</th>\n",
              "      <td>4.0</td>\n",
              "      <td>0.0</td>\n",
              "      <td>0.0</td>\n",
              "    </tr>\n",
              "    <tr>\n",
              "      <th>Yunnan</th>\n",
              "      <td>3666.0</td>\n",
              "      <td>42.0</td>\n",
              "      <td>3574.0</td>\n",
              "    </tr>\n",
              "    <tr>\n",
              "      <th>Zhejiang</th>\n",
              "      <td>25628.0</td>\n",
              "      <td>21.0</td>\n",
              "      <td>24589.0</td>\n",
              "    </tr>\n",
              "  </tbody>\n",
              "</table>\n",
              "<p>2456 rows × 3 columns</p>\n",
              "</div>"
            ],
            "text/plain": [
              "                     Confirmed  Deaths  Recovered\n",
              "Province/State                                   \n",
              " Montreal, QC             15.0     0.0        0.0\n",
              " Norfolk County, MA        7.0     0.0        0.0\n",
              "Alabama                  429.0     0.0        0.0\n",
              "Alameda County, CA         6.0     0.0        0.0\n",
              "Alaska                    48.0     0.0        0.0\n",
              "...                        ...     ...        ...\n",
              "Wyoming                   96.0     0.0        0.0\n",
              "Xinjiang                1596.0    63.0     1502.0\n",
              "Yolo County, CA            4.0     0.0        0.0\n",
              "Yunnan                  3666.0    42.0     3574.0\n",
              "Zhejiang               25628.0    21.0    24589.0\n",
              "\n",
              "[2456 rows x 3 columns]"
            ]
          },
          "metadata": {
            "tags": []
          },
          "execution_count": 9
        }
      ]
    },
    {
      "cell_type": "markdown",
      "metadata": {
        "id": "93Ig3BZtjqi9",
        "colab_type": "text"
      },
      "source": [
        "#we observed that january dataset contains 34 rows\n",
        "#february dataset contains 101 rows\n",
        "#march dataset contain 2456 rows\n",
        "#after that we combine all the three datasets in to in single dataset which contains 2494 rows"
      ]
    },
    {
      "cell_type": "code",
      "metadata": {
        "id": "Z7usWCdlqb_M",
        "colab_type": "code",
        "outputId": "08b91a88-4fdd-4e3c-ccb0-57aab9a99a41",
        "colab": {
          "base_uri": "https://localhost:8080/",
          "height": 437
        }
      },
      "source": [
        "resultant=january[0].add(february[0],fill_value=0)\n",
        "resultant=resultant.add(march[0],fill_value=0)\n",
        "resultant=resultant.fillna(1,axis=0)\n",
        "resultant"
      ],
      "execution_count": 0,
      "outputs": [
        {
          "output_type": "execute_result",
          "data": {
            "text/html": [
              "<div>\n",
              "<style scoped>\n",
              "    .dataframe tbody tr th:only-of-type {\n",
              "        vertical-align: middle;\n",
              "    }\n",
              "\n",
              "    .dataframe tbody tr th {\n",
              "        vertical-align: top;\n",
              "    }\n",
              "\n",
              "    .dataframe thead th {\n",
              "        text-align: right;\n",
              "    }\n",
              "</style>\n",
              "<table border=\"1\" class=\"dataframe\">\n",
              "  <thead>\n",
              "    <tr style=\"text-align: right;\">\n",
              "      <th></th>\n",
              "      <th>Confirmed</th>\n",
              "      <th>Deaths</th>\n",
              "      <th>Recovered</th>\n",
              "    </tr>\n",
              "    <tr>\n",
              "      <th>Province/State</th>\n",
              "      <th></th>\n",
              "      <th></th>\n",
              "      <th></th>\n",
              "    </tr>\n",
              "  </thead>\n",
              "  <tbody>\n",
              "    <tr>\n",
              "      <th>Montreal, QC</th>\n",
              "      <td>17.0</td>\n",
              "      <td>0.0</td>\n",
              "      <td>0.0</td>\n",
              "    </tr>\n",
              "    <tr>\n",
              "      <th>Norfolk County, MA</th>\n",
              "      <td>7.0</td>\n",
              "      <td>0.0</td>\n",
              "      <td>0.0</td>\n",
              "    </tr>\n",
              "    <tr>\n",
              "      <th>Alabama</th>\n",
              "      <td>429.0</td>\n",
              "      <td>0.0</td>\n",
              "      <td>0.0</td>\n",
              "    </tr>\n",
              "    <tr>\n",
              "      <th>Alameda County, CA</th>\n",
              "      <td>6.0</td>\n",
              "      <td>0.0</td>\n",
              "      <td>0.0</td>\n",
              "    </tr>\n",
              "    <tr>\n",
              "      <th>Alaska</th>\n",
              "      <td>48.0</td>\n",
              "      <td>0.0</td>\n",
              "      <td>0.0</td>\n",
              "    </tr>\n",
              "    <tr>\n",
              "      <th>...</th>\n",
              "      <td>...</td>\n",
              "      <td>...</td>\n",
              "      <td>...</td>\n",
              "    </tr>\n",
              "    <tr>\n",
              "      <th>Wyoming</th>\n",
              "      <td>96.0</td>\n",
              "      <td>0.0</td>\n",
              "      <td>0.0</td>\n",
              "    </tr>\n",
              "    <tr>\n",
              "      <th>Xinjiang</th>\n",
              "      <td>3371.0</td>\n",
              "      <td>90.0</td>\n",
              "      <td>1936.0</td>\n",
              "    </tr>\n",
              "    <tr>\n",
              "      <th>Yolo County, CA</th>\n",
              "      <td>4.0</td>\n",
              "      <td>0.0</td>\n",
              "      <td>0.0</td>\n",
              "    </tr>\n",
              "    <tr>\n",
              "      <th>Yunnan</th>\n",
              "      <td>8462.0</td>\n",
              "      <td>63.0</td>\n",
              "      <td>5282.0</td>\n",
              "    </tr>\n",
              "    <tr>\n",
              "      <th>Zhejiang</th>\n",
              "      <td>58732.0</td>\n",
              "      <td>31.0</td>\n",
              "      <td>37743.0</td>\n",
              "    </tr>\n",
              "  </tbody>\n",
              "</table>\n",
              "<p>2494 rows × 3 columns</p>\n",
              "</div>"
            ],
            "text/plain": [
              "                     Confirmed  Deaths  Recovered\n",
              "Province/State                                   \n",
              " Montreal, QC             17.0     0.0        0.0\n",
              " Norfolk County, MA        7.0     0.0        0.0\n",
              "Alabama                  429.0     0.0        0.0\n",
              "Alameda County, CA         6.0     0.0        0.0\n",
              "Alaska                    48.0     0.0        0.0\n",
              "...                        ...     ...        ...\n",
              "Wyoming                   96.0     0.0        0.0\n",
              "Xinjiang                3371.0    90.0     1936.0\n",
              "Yolo County, CA            4.0     0.0        0.0\n",
              "Yunnan                  8462.0    63.0     5282.0\n",
              "Zhejiang               58732.0    31.0    37743.0\n",
              "\n",
              "[2494 rows x 3 columns]"
            ]
          },
          "metadata": {
            "tags": []
          },
          "execution_count": 10
        }
      ]
    },
    {
      "cell_type": "code",
      "metadata": {
        "id": "L7vUfLryrLe_",
        "colab_type": "code",
        "colab": {}
      },
      "source": [
        "#we import standard libraries\n",
        "import numpy as np\n",
        "import pandas as dp\n",
        "import matplotlib.pyplot as plt\n",
        "import seaborn as sns\n",
        "from sklearn.cluster import KMeans\n"
      ],
      "execution_count": 0,
      "outputs": []
    },
    {
      "cell_type": "code",
      "metadata": {
        "id": "Klz3coEj5ADD",
        "colab_type": "code",
        "outputId": "5e5a787c-9afe-4375-b347-b22a7c289641",
        "colab": {
          "base_uri": "https://localhost:8080/",
          "height": 35
        }
      },
      "source": [
        "#we made the features in to numpy array\n",
        "x=np.array(resultant[['Confirmed','Deaths','Recovered']])\n",
        "x.shape"
      ],
      "execution_count": 0,
      "outputs": [
        {
          "output_type": "execute_result",
          "data": {
            "text/plain": [
              "(2494, 3)"
            ]
          },
          "metadata": {
            "tags": []
          },
          "execution_count": 12
        }
      ]
    },
    {
      "cell_type": "code",
      "metadata": {
        "id": "ROolzC7qJ1KA",
        "colab_type": "code",
        "outputId": "53def289-99d4-48ca-aa3c-afca0f0e19a8",
        "colab": {
          "base_uri": "https://localhost:8080/",
          "height": 283
        }
      },
      "source": [
        "#normalizing the features\n",
        "from sklearn import preprocessing\n",
        "e= preprocessing.normalize(x)\n",
        "plt.scatter(e[:,1],e[:,2],e[:,0])"
      ],
      "execution_count": 0,
      "outputs": [
        {
          "output_type": "execute_result",
          "data": {
            "text/plain": [
              "<matplotlib.collections.PathCollection at 0x7fd00e5dab00>"
            ]
          },
          "metadata": {
            "tags": []
          },
          "execution_count": 13
        },
        {
          "output_type": "display_data",
          "data": {
            "image/png": "[encoded data removed]",
            "text/plain": [
              "<Figure size 432x288 with 1 Axes>"
            ]
          },
          "metadata": {
            "tags": []
          }
        }
      ]
    },
    {
      "cell_type": "markdown",
      "metadata": {
        "id": "ElTd4gRYkhSN",
        "colab_type": "text"
      },
      "source": [
        "#By plotting the elbow graph we can conclude the number of clusters we want to made."
      ]
    },
    {
      "cell_type": "code",
      "metadata": {
        "id": "Emb737hlVtpx",
        "colab_type": "code",
        "outputId": "eb0ae558-afdc-4d30-86a0-1b4be142567d",
        "colab": {
          "base_uri": "https://localhost:8080/",
          "height": 363
        }
      },
      "source": [
        "r=range(2,21)\n",
        "wss=[]\n",
        "for i in range(2,21):\n",
        "  kmeans=KMeans(n_clusters=i)\n",
        "  kmeans.fit(e)\n",
        "  ws=kmeans.inertia_\n",
        "  wss.append(ws)\n",
        "wss"
      ],
      "execution_count": 0,
      "outputs": [
        {
          "output_type": "execute_result",
          "data": {
            "text/plain": [
              "[5.702925758028122,\n",
              " 4.008071272983619,\n",
              " 2.8494973050796015,\n",
              " 2.3494973050796015,\n",
              " 1.7352229390113807,\n",
              " 1.2414248301615762,\n",
              " 0.8175714496407223,\n",
              " 0.5144285426355155,\n",
              " 0.3698054698678181,\n",
              " 0.3108450863829899,\n",
              " 0.2561675985167896,\n",
              " 0.20834058126250057,\n",
              " 0.17243743132943953,\n",
              " 0.13663919910904557,\n",
              " 0.11251767875697308,\n",
              " 0.09934072388048415,\n",
              " 0.07649930685070823,\n",
              " 0.06735451363910344,\n",
              " 0.05316325966510689]"
            ]
          },
          "metadata": {
            "tags": []
          },
          "execution_count": 15
        }
      ]
    },
    {
      "cell_type": "code",
      "metadata": {
        "id": "WJ3D6CPMVvW9",
        "colab_type": "code",
        "outputId": "a8f3801c-1b83-4069-bd32-45cb87d23902",
        "colab": {
          "base_uri": "https://localhost:8080/",
          "height": 283
        }
      },
      "source": [
        "plt.plot(wss,r)"
      ],
      "execution_count": 0,
      "outputs": [
        {
          "output_type": "execute_result",
          "data": {
            "text/plain": [
              "[<matplotlib.lines.Line2D at 0x7fd00b8bc860>]"
            ]
          },
          "metadata": {
            "tags": []
          },
          "execution_count": 16
        },
        {
          "output_type": "display_data",
          "data": {
            "image/png": "[encoded data removed]",
            "text/plain": [
              "<Figure size 432x288 with 1 Axes>"
            ]
          },
          "metadata": {
            "tags": []
          }
        }
      ]
    },
    {
      "cell_type": "markdown",
      "metadata": {
        "id": "PiKQyC-Nk34E",
        "colab_type": "text"
      },
      "source": [
        "#From the above elbow graph we found that number of clusters is three(3).\n",
        "#Then by using scikitlearn library we fit the clusters and predict the output."
      ]
    },
    {
      "cell_type": "code",
      "metadata": {
        "id": "htNRpujVZwzi",
        "colab_type": "code",
        "outputId": "63370de4-0e7f-48fa-934a-cb45658ec001",
        "colab": {
          "base_uri": "https://localhost:8080/",
          "height": 35
        }
      },
      "source": [
        "kmeans = KMeans(n_clusters=3)\n",
        "kmeans.fit(e)\n",
        "y_predict = kmeans.predict(e)\n",
        "y_predict"
      ],
      "execution_count": 0,
      "outputs": [
        {
          "output_type": "execute_result",
          "data": {
            "text/plain": [
              "array([1, 1, 1, ..., 1, 0, 0], dtype=int32)"
            ]
          },
          "metadata": {
            "tags": []
          },
          "execution_count": 17
        }
      ]
    },
    {
      "cell_type": "code",
      "metadata": {
        "id": "xwppjFYxaxNC",
        "colab_type": "code",
        "outputId": "14b9f4e9-f848-460c-811e-8aeb7fce9df1",
        "colab": {
          "base_uri": "https://localhost:8080/",
          "height": 267
        }
      },
      "source": [
        "plt.scatter(e[:, 0], e[:, 1],c=y_predict,s=25,cmap='viridis')\n",
        "\n",
        "centers = kmeans.cluster_centers_\n",
        "plt.scatter(centers[:, 0], centers[:, 1],s=200,c='black');"
      ],
      "execution_count": 0,
      "outputs": [
        {
          "output_type": "display_data",
          "data": {
            "image/png": "[encoded data removed]",
            "text/plain": [
              "<Figure size 432x288 with 1 Axes>"
            ]
          },
          "metadata": {
            "tags": []
          }
        }
      ]
    },
    {
      "cell_type": "markdown",
      "metadata": {
        "id": "4C1nO1Z0l4AP",
        "colab_type": "text"
      },
      "source": [
        "#  **TEAM NAME:SRS**\n",
        "#TEAM MEMBERS:\n",
        "#1.19PA1A05JO:-Y.SANJAY\n",
        "#2.19PA1A05C9:-P.SATYA SANTOSH KUMAR\n",
        "#3.19PA1A05G4:-S.ROHITH KUMAR"
      ]
    }
  ]
}